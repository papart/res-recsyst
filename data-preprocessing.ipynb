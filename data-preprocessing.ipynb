{
 "cells": [
  {
   "cell_type": "code",
   "execution_count": 25,
   "metadata": {
    "collapsed": false
   },
   "outputs": [],
   "source": [
    "import numpy as np\n",
    "import pandas as pd\n",
    "import os\n",
    "import itertools\n",
    "from scipy.stats import ttest_ind"
   ]
  },
  {
   "cell_type": "markdown",
   "metadata": {},
   "source": [
    "Define some functions"
   ]
  },
  {
   "cell_type": "code",
   "execution_count": 26,
   "metadata": {
    "collapsed": true
   },
   "outputs": [],
   "source": [
    "def ttest_onetail(a, b, axis=0, equal_var=False, alternative='greater'):\n",
    "    t_raw, p_raw = scipy.stats.ttest_ind(a, b, axis=axis, equal_var=equal_var)\n",
    "    \n",
    "    if np.isnan(t_raw):\n",
    "        return 1.0\n",
    "    if alternative in ['greater', '>']:\n",
    "        if t_raw > 0:\n",
    "            p = 0.5 * p_raw\n",
    "        else:\n",
    "            p = 1 - 0.5 * p_raw \n",
    "    elif alternative in ['smaller', '<']:\n",
    "        if t_raw < 0:\n",
    "            p = 0.5 * p_raw\n",
    "        else:\n",
    "            p = 1 - 0.5 * p_raw\n",
    "    else:\n",
    "        print 'Unknown parameter: alternative=\"%s\"' % alternative\n",
    "    return p"
   ]
  },
  {
   "cell_type": "code",
   "execution_count": 6,
   "metadata": {
    "collapsed": true
   },
   "outputs": [],
   "source": [
    "# Define useful constants\n",
    "available_metrics = ['prc_auc', 'roc_auc']\n",
    "available_classifiers = ['logreg_l1', 'logreg_l2', 'knn', 'dtree']\n",
    "available_resamplers = ['bootstrap', 'rus', 'smote1', 'smote3', 'smote5', 'smote7']\n",
    "available_multipliers = [1.25 + i * 0.25 for i in range(4*9)]"
   ]
  },
  {
   "cell_type": "code",
   "execution_count": 10,
   "metadata": {
    "collapsed": true
   },
   "outputs": [],
   "source": [
    "# Load metafeatures\n",
    "df_metafs = pd.read_csv('./1_metafeatures/metafeatures.csv', index_col = 0)\n",
    "df_metafs.index = df_metafs['dataset']\n",
    "df_metafs = df_metafs.drop('dataset', axis = 1)"
   ]
  },
  {
   "cell_type": "markdown",
   "metadata": {},
   "source": [
    "Construct data frames for metrics and their aggregations. Save them to *.csv files for further use in recsyst-train-test.ipynb"
   ]
  },
  {
   "cell_type": "code",
   "execution_count": 17,
   "metadata": {
    "collapsed": true
   },
   "outputs": [
    {
     "name": "stdout",
     "output_type": "stream",
     "text": [
      "exp_real_new_results_data2_0.csv\n",
      "exp_real_new_results_data2_1.csv\n",
      "exp_real_new_results_data2_14.csv\n",
      "exp_real_new_results_data2_16_1.csv\n",
      "exp_real_new_results_data2_19_0.csv\n",
      "exp_real_new_results_data2_19_1.csv\n",
      "exp_real_new_results_data2_19_2.csv\n",
      "exp_real_new_results_data2_2.csv\n",
      "exp_real_new_results_data2_26-data2_27-data2_28-data2_29-data2_30.csv\n",
      "exp_real_new_results_data2_3.csv\n",
      "exp_real_new_results_data2_31-data2_32-data2_33-data2_34-data2_35.csv\n",
      "exp_real_new_results_data2_36.csv\n",
      "exp_real_new_results_data2_37-data2_39-data2_40-data2_41-data2_42-data2_43-data2_44-data2_45-data2_46-data2_48-data2_49-data2_51.csv\n",
      "exp_real_new_results_data2_4-6.csv\n",
      "exp_real_new_results_data2_52.csv\n",
      "exp_real_new_results_data2_54.csv\n",
      "exp_real_new_results_data2_55.csv\n",
      "exp_real_new_results_data2_56.csv\n",
      "exp_real_new_results_data2_59.csv\n",
      "exp_real_new_results_data2_63.csv\n",
      "exp_real_new_results_data2_64.csv\n",
      "exp_real_new_results_data2_66.csv\n",
      "exp_real_new_results_data2_68-data2_69-data2_70-data2_71.csv\n",
      "exp_real_new_results_data2_72-data2_73.csv\n",
      "exp_real_new_results_data2_74.csv\n",
      "exp_real_new_results_data2_75.csv\n",
      "exp_real_new_results_data2_76.csv\n",
      "exp_real_new_results_data2_77.csv\n",
      "exp_real_new_results_data2_78.csv\n",
      "exp_real_new_results_data2_79-data2_80.csv\n",
      "exp_real_new_results_data2_8-data2_9-data2_10-data2_12.csv\n",
      "exp_real_new_results_data2_81-data2_82.csv\n",
      "exp_real_new_results_data2_83-data2_84.csv\n",
      "exp_real_new_results_data2_85-data2_86.csv\n",
      "exp_real_new_results_data2_87-data2_88-data2_89.csv\n",
      "exp_real_new_results_data2_90.csv\n",
      "exp_real_new_results_data2_91.csv\n",
      "exp_real_new_results_data2_92.csv\n",
      "exp_real_new_results_data_art_000.csv\n",
      "exp_real_new_results_data_art_001-data_art_002-data_art_003-data_art_004-data_art_005.csv\n",
      "exp_real_new_results_data_art_006-data_art_007-data_art_008-data_art_009-data_art_010.csv\n",
      "exp_real_new_results_data_art_011-data_art_012-data_art_013-data_art_014-data_art_015-data_art_016-data_art_017-data_art_018-data_art_019-data_art_020.csv\n",
      "exp_real_new_results_data_art_021-data_art_022-data_art_023-data_art_024-data_art_025-data_art_026-data_art_027-data_art_028-data_art_029.csv\n",
      "exp_real_new_results_data_art_031-data_art_032-data_art_033-data_art_034-data_art_035-data_art_036-data_art_037-data_art_038-data_art_039.csv\n",
      "exp_real_new_results_data_art_040-data_art_041-data_art_042-data_art_043-data_art_045-data_art_046-data_art_047-data_art_048-data_art_049-data_art_050.csv\n",
      "exp_real_new_results_data_art_051-data_art_052-data_art_053-data_art_054-data_art_055-data_art_056-data_art_057-data_art_058.csv\n",
      "exp_real_new_results_data_art_060-data_art_061-data_art_062-data_art_063-data_art_064-data_art_065.csv\n",
      "exp_real_new_results_data_art_067-data_art_068-data_art_069.csv\n",
      "exp_real_new_results_data_art_070-data_art_071-data_art_072-data_art_073-data_art_074-data_art_075-data_art_076-data_art_077-data_art_078-data_art_079.csv\n",
      "exp_real_new_results_data_art_080-data_art_081-data_art_082-data_art_083-data_art_084.csv\n",
      "exp_real_new_results_data_art_090-data_art_091-data_art_092-data_art_093-data_art_094-data_art_095-data_art_096-data_art_097-data_art_098-data_art_099.csv\n",
      "exp_real_new_results_data_art_100-data_art_101-data_art_102-data_art_103-data_art_104-data_art_105-data_art_106-data_art_107-data_art_108-data_art_109.csv\n",
      "exp_real_new_results_data_art_110-data_art_111-data_art_112-data_art_113-data_art_114-data_art_115-data_art_116-data_art_117-data_art_118-data_art_119.csv\n",
      "exp_real_new_results_data_art_120-data_art_121-data_art_122-data_art_123-data_art_124-data_art_125-data_art_126-data_art_127-data_art_128-data_art_129.csv\n",
      "exp_real_new_results_data_art_130-data_art_131-data_art_132-data_art_133-data_art_134-data_art_135-data_art_136-data_art_138-data_art_139.csv\n",
      "exp_real_new_results_data_art_140-data_art_141-data_art_142-data_art_143-data_art_144-data_art_145-data_art_146-data_art_147-data_art_148-data_art_149.csv\n",
      "exp_real_new_results_data_art_150-data_art_151-data_art_152-data_art_153-data_art_154-data_art_155-data_art_156-data_art_157-data_art_158-data_art_159.csv\n",
      "exp_real_new_results_data_art_160-data_art_161-data_art_162-data_art_163-data_art_164-data_art_165-data_art_166-data_art_167-data_art_169.csv\n",
      "exp_real_new_results_data_art_170-data_art_171-data_art_172-data_art_173-data_art_174-data_art_175-data_art_176-data_art_177-data_art_178-data_art_179.csv\n",
      "exp_real_new_results_data_art_180-data_art_181-data_art_182-data_art_183-data_art_184-data_art_185-data_art_186-data_art_187-data_art_188-data_art_189.csv\n",
      "exp_real_new_results_data_art_190-data_art_191-data_art_192-data_art_193-data_art_194-data_art_195-data_art_196-data_art_197-data_art_198-data_art_199.csv\n",
      "exp_real_new_results_data_art_200-data_art_201-data_art_202-data_art_203-data_art_205-data_art_206-data_art_207-data_art_208-data_art_209.csv\n",
      "exp_real_new_results_data_art_210-data_art_211-data_art_212-data_art_213-data_art_214-data_art_215-data_art_216-data_art_217-data_art_218-data_art_219.csv\n",
      "exp_real_new_results_data_art_220-data_art_221-data_art_222-data_art_223-data_art_224-data_art_225-data_art_226-data_art_227-data_art_228-data_art_229.csv\n",
      "exp_real_new_results_data_art_230-data_art_231-data_art_232-data_art_233-data_art_234-data_art_235-data_art_236-data_art_237-data_art_238-data_art_239.csv\n",
      "exp_real_new_results_data_art_240-data_art_241-data_art_242-data_art_243-data_art_244-data_art_245-data_art_246-data_art_247-data_art_248-data_art_249.csv\n",
      "exp_real_new_results_data_art_250-data_art_251-data_art_252-data_art_253-data_art_254-data_art_255-data_art_256-data_art_257-data_art_258-data_art_259.csv\n",
      "exp_real_new_results_data_art_260-data_art_261-data_art_262-data_art_263-data_art_264-data_art_265-data_art_266-data_art_267-data_art_268-data_art_269.csv\n",
      "exp_real_new_results_data_art_270-data_art_271-data_art_272-data_art_273-data_art_274-data_art_275-data_art_276-data_art_277-data_art_278-data_art_279.csv\n",
      "exp_real_new_results_data_art_280-data_art_281-data_art_282-data_art_283-data_art_284-data_art_285-data_art_286-data_art_287-data_art_288-data_art_289.csv\n",
      "exp_real_new_results_data_art_290-data_art_291-data_art_292-data_art_294-data_art_295-data_art_296-data_art_297-data_art_298-data_art_299.csv\n",
      "exp_real_new_results_data_art_300-data_art_301-data_art_302-data_art_303-data_art_304-data_art_305-data_art_306-data_art_307-data_art_308-data_art_309.csv\n",
      "exp_real_new_results_data_art_310-data_art_311-data_art_312-data_art_313-data_art_314-data_art_315-data_art_316-data_art_317-data_art_318-data_art_319.csv\n",
      "exp_real_new_results_data_art_320---data_art_359.csv\n",
      "exp_real_new_results_data_art_360---data_art_399.csv\n",
      "exp_real_new_results_data_art_400---data_art_439.csv\n",
      "exp_real_new_results_data_art_440---data_art_479.csv\n",
      "exp_real_new_results_data_art_480---data_art_499.csv\n",
      "exp_real_new_results_data_art_500---data_art_549.csv\n",
      "exp_real_new_results_data_art_551---data_art_599.csv\n",
      "exp_real_new_results_data_art_600---data_art_649.csv\n",
      "exp_real_new_results_data_art_650---data_art_699.csv\n",
      "exp_real_new_results_data_art_701---data_art_749.csv\n",
      "exp_real_new_results_data_art_750---data_art_799.csv\n",
      "exp_real_new_results_data_art_800---data_art_849.csv\n",
      "exp_real_new_results_data_art_850---data_art_899.csv\n",
      "exp_real_new_results_data_art_900---data_art_949.csv\n",
      "exp_real_new_results_data_art_950---data_art_999.csv\n",
      "exp_real_new_results_x11data.csv\n",
      "exp_real_new_results_x12data.csv\n",
      "exp_real_new_results_x14data.csv\n",
      "exp_real_new_results_x18data.csv\n",
      "exp_real_new_results_x1data-data2_93-data2_94-data2_95.csv\n",
      "exp_real_new_results_x20data-x21data.csv\n",
      "exp_real_new_results_x22data.csv\n",
      "exp_real_new_results_x23data-x25data.csv\n",
      "exp_real_new_results_x26data.csv\n",
      "exp_real_new_results_x2data.csv\n",
      "exp_real_new_results_x3data.csv\n",
      "exp_real_new_results_x4data.csv\n",
      "exp_real_new_results_x5data.csv\n",
      "exp_real_new_results_x7data.csv\n",
      "exp_real_new_results_x8data-x9data.csv\n"
     ]
    }
   ],
   "source": [
    "df_scores_raw = None\n",
    "decimals = 7\n",
    "for fname in os.listdir('./1_test_results'):\n",
    "    if (fname[:3] == 'exp') and (fname[-4:] == '.csv'):\n",
    "        print fname\n",
    "        df = pd.read_csv('./1_test_results/' + fname, index_col = 0)\n",
    "        numeric_cols = df.columns.tolist()\n",
    "        numeric_cols.remove('dataset')\n",
    "        numeric_cols.remove('resample_strategy')\n",
    "        # Round values\n",
    "        df[numeric_cols] = np.round(df[numeric_cols], decimals = decimals)\n",
    "        # Delete odd chars from strings in df\n",
    "        df['dataset'] = df['dataset'].map(lambda x: x.replace(\"data_csv/\", \"\").replace(\".csv\", \"\"))\n",
    "        #df.to_csv('test.csv')\n",
    "        #exit()\n",
    "        if df_scores_raw is None:\n",
    "            df_scores_raw = df.copy()\n",
    "        else:\n",
    "            df_scores_raw = pd.concat((df_scores_raw, df), axis = 0)\n",
    "df_scores_raw.index = range(len(df_scores_raw))"
   ]
  },
  {
   "cell_type": "code",
   "execution_count": 28,
   "metadata": {
    "collapsed": false
   },
   "outputs": [
    {
     "name": "stdout",
     "output_type": "stream",
     "text": [
      "(4393816, 13)\n"
     ]
    }
   ],
   "source": [
    "print df_scores_raw.shape"
   ]
  },
  {
   "cell_type": "code",
   "execution_count": 29,
   "metadata": {
    "collapsed": true
   },
   "outputs": [
    {
     "name": "stdout",
     "output_type": "stream",
     "text": [
      "   dataset  logreg_l2_prc_auc  logreg_l2_roc_auc  knn_prc_auc  knn_roc_auc  \\\n",
      "0  data2_0           0.820567           0.878103     0.801836     0.875671   \n",
      "1  data2_0           0.840532           0.894214     0.814318     0.875418   \n",
      "2  data2_0           0.860166           0.890566     0.843584     0.871264   \n",
      "3  data2_0           0.885521           0.930388     0.854214     0.892492   \n",
      "\n",
      "   logreg_l1_prc_auc  logreg_l1_roc_auc  dtree_prc_auc  dtree_roc_auc  \\\n",
      "0           0.821153           0.878103       0.710047       0.737461   \n",
      "1           0.840532           0.894214       0.742842       0.759196   \n",
      "2           0.860190           0.890566       0.721557       0.748100   \n",
      "3           0.883737           0.927754       0.789055       0.815230   \n",
      "\n",
      "  resample_strategy  resample_multiplier  min_maj_ratio_final  q_iteration  \n",
      "0           nothing                  1.0             0.507792          1.0  \n",
      "1           nothing                  1.0             0.507792          2.0  \n",
      "2           nothing                  1.0             0.507792          3.0  \n",
      "3           nothing                  1.0             0.507792          4.0  \n"
     ]
    }
   ],
   "source": [
    "print df_scores_raw.iloc[:4]"
   ]
  },
  {
   "cell_type": "code",
   "execution_count": 30,
   "metadata": {
    "collapsed": false
   },
   "outputs": [
    {
     "name": "stdout",
     "output_type": "stream",
     "text": [
      "logreg_l1_prc_auc\n",
      "logreg_l1_roc_auc\n",
      "logreg_l2_prc_auc\n",
      "logreg_l2_roc_auc\n",
      "knn_prc_auc\n",
      "knn_roc_auc\n",
      "dtree_prc_auc\n",
      "dtree_roc_auc\n"
     ]
    }
   ],
   "source": [
    "# Construct data frames for metrics and their aggregations. Save them to *.csv files\n",
    "# Very slow!\n",
    "winsize = 3\n",
    "\n",
    "dict_scores_nores = {}\n",
    "dict_scores_res = {}\n",
    "dict_scores_agg = {}\n",
    "\n",
    "for clf, met in itertools.product(available_classifiers, available_metrics):\n",
    "    metric = clf + '_' + met\n",
    "    print metric\n",
    "    \n",
    "    #pval - p-value for t-test which compares current resample strategy and default (no resampling)\n",
    "    stats_nothing_names = ['mean', 'std']\n",
    "    stats_resampler_mult_names = ['mean', 'std', 'pval', 'pval_winmax']\n",
    "    stats_resampler_aggmult_names = ['mean', 'std', 'pval', 'mult']\n",
    "    aggregations_names = ['max_mean', 'min_pval', 'min_pval_winmax']\n",
    "\n",
    "    df_scores_nores = pd.DataFrame(index = df_metafs.index, columns = ['mean', 'std'])\n",
    "    df_scores_res = pd.DataFrame(index = df_metafs.index, columns = [\n",
    "        [res for res in available_resamplers for stat in [stat for mult in available_multipliers for stat in stats_resampler_mult_names]],\n",
    "        [mult for res in available_resamplers for mult in [mult for mult in available_multipliers for stat in stats_resampler_mult_names]],\n",
    "        [stat for res in available_resamplers for mult in available_multipliers for stat in stats_resampler_mult_names]])\n",
    "    df_scores_agg = pd.DataFrame(index = df_metafs.index, columns = [\n",
    "        [res for res in available_resamplers for stat in [stat for agg in aggregations_names for stat in stats_resampler_aggmult_names]],\n",
    "        [agg for res in available_resamplers for agg in [agg for agg in aggregations_names for stat in stats_resampler_aggmult_names]],\n",
    "        [stat for res in available_resamplers for agg in aggregations_names for stat in stats_resampler_aggmult_names]])\n",
    "\n",
    "    df_nothing = df_scores_raw.loc[df_scores_raw['resample_strategy'] == 'nothing'][['dataset', metric]]\n",
    "    grouped = df_nothing.groupby(['dataset'])\n",
    "    df_scores_nores['mean'] = grouped.mean()\n",
    "    df_scores_nores['std'] = grouped.std()\n",
    "\n",
    "    for res in available_resamplers:\n",
    "        df_r = df_scores_raw.loc[df_scores_raw['resample_strategy'] == res][['dataset', 'resample_multiplier', metric]]\n",
    "\n",
    "        grouped = df_r.groupby(['dataset', 'resample_multiplier'])\n",
    "        df_mean = grouped.mean().reset_index().pivot(index='dataset', columns='resample_multiplier', values=metric)\n",
    "        df_std = grouped.std().reset_index().pivot(index='dataset', columns='resample_multiplier', values=metric)\n",
    "        df_pval = grouped.apply(\n",
    "                lambda x: ttest_onetail(x[metric], df_nothing.loc[df_nothing['dataset'] == x['dataset'].values[0]][metric])\n",
    "                ).reset_index().pivot(index='dataset', columns='resample_multiplier', values=0)\n",
    "        df_scores_res[[(res, mult, 'mean') for mult in available_multipliers]] = df_mean\n",
    "        df_scores_res[[(res, mult, 'std') for mult in available_multipliers]] = df_std\n",
    "        df_scores_res[[(res, mult, 'pval') for mult in available_multipliers]] = df_pval\n",
    "        df_scores_res[[(res, mult, 'pval_winmax') for mult in available_multipliers]] = \\\n",
    "            df_pval.rolling(window=winsize,center=False,axis=1).max().fillna(method='bfill', axis=1)\n",
    "\n",
    "        for agg in aggregations_names:\n",
    "            if agg == 'max_mean':\n",
    "                # Here rel means 'relative', i.e. index in particular row\n",
    "                rel_idx_best = np.argmax(df_mean.values, axis = 1)\n",
    "            elif agg == 'min_pval':\n",
    "                rel_idx_best = np.argmin(df_pval.values, axis = 1)\n",
    "            elif agg == 'min_pval_winmax':\n",
    "                rel_idx_best = np.argmin(df_pval.rolling(window=winsize,center=False,axis=1).max().fillna(method='bfill', axis=1).values, axis = 1)\n",
    "            else:\n",
    "                print 'Aggregation %s is not supported' % agg\n",
    "            # Indexes for flatten dataframe\n",
    "            idx_best = rel_idx_best + np.arange(df_pval.shape[0]) * df_pval.shape[1]\n",
    "            df_scores_agg[(res, agg, 'mean')] = df_mean.values.flatten()[idx_best]\n",
    "            df_scores_agg[(res, agg, 'std')] = df_std.values.flatten()[idx_best]\n",
    "            df_scores_agg[(res, agg, 'pval')] = df_pval.values.flatten()[idx_best]\n",
    "            df_scores_agg[(res, agg, 'mult')] = [available_multipliers[i] for i in rel_idx_best]\n",
    "    df_scores_nores.to_csv('2_df_scores/df_scores_nores_' + metric + '.csv')\n",
    "    df_scores_res.to_csv('2_df_scores/df_scores_res_' + metric + '.csv')\n",
    "    df_scores_agg.to_csv('2_df_scores/df_scores_agg_' + metric + '.csv')"
   ]
  },
  {
   "cell_type": "code",
   "execution_count": null,
   "metadata": {
    "collapsed": true
   },
   "outputs": [],
   "source": []
  }
 ],
 "metadata": {
  "kernelspec": {
   "display_name": "Python 2",
   "language": "python",
   "name": "python2"
  },
  "language_info": {
   "codemirror_mode": {
    "name": "ipython",
    "version": 2
   },
   "file_extension": ".py",
   "mimetype": "text/x-python",
   "name": "python",
   "nbconvert_exporter": "python",
   "pygments_lexer": "ipython2",
   "version": "2.7.13"
  }
 },
 "nbformat": 4,
 "nbformat_minor": 2
}
