{
 "cells": [
  {
   "cell_type": "code",
   "execution_count": 1,
   "metadata": {
    "collapsed": false
   },
   "outputs": [
    {
     "name": "stdout",
     "output_type": "stream",
     "text": [
      "Populating the interactive namespace from numpy and matplotlib\n"
     ]
    }
   ],
   "source": [
    "%pylab inline"
   ]
  },
  {
   "cell_type": "code",
   "execution_count": 2,
   "metadata": {
    "collapsed": false
   },
   "outputs": [
    {
     "name": "stderr",
     "output_type": "stream",
     "text": [
      "C:\\Users\\Artem\\Anaconda2\\lib\\site-packages\\sklearn\\cross_validation.py:44: DeprecationWarning: This module was deprecated in version 0.18 in favor of the model_selection module into which all the refactored classes and functions are moved. Also note that the interface of the new CV iterators are different from that of this module. This module will be removed in 0.20.\n",
      "  \"This module will be removed in 0.20.\", DeprecationWarning)\n"
     ]
    }
   ],
   "source": [
    "import numpy as np\n",
    "import pandas as pd\n",
    "import matplotlib.pyplot as plt\n",
    "import itertools\n",
    "import matplotlib\n",
    "import winsound\n",
    "import os\n",
    "import scipy\n",
    "import copy\n",
    "from sklearn.tree import DecisionTreeClassifier, DecisionTreeRegressor\n",
    "from sklearn.cross_validation import train_test_split, LeaveOneOut, StratifiedKFold, KFold\n",
    "from sklearn.metrics import average_precision_score, precision_recall_curve, roc_curve, auc\n",
    "from sklearn.linear_model import LogisticRegression\n",
    "from sklearn.ensemble import AdaBoostClassifier, RandomForestRegressor, AdaBoostRegressor, \\\n",
    "    GradientBoostingClassifier, RandomForestClassifier, GradientBoostingRegressor\n",
    "from sklearn.cluster import KMeans, DBSCAN, AffinityPropagation\n",
    "from sklearn.svm import SVC, SVR\n",
    "from sklearn.preprocessing import StandardScaler\n",
    "from sklearn.neighbors import KNeighborsClassifier\n",
    "from sklearn.feature_selection import SelectPercentile, f_classif, RFE, RFECV\n",
    "import sklearn.linear_model as sk_lm\n",
    "from lib_helper import *\n",
    "from lib_plotting import *\n",
    "from lib_recres import *"
   ]
  },
  {
   "cell_type": "code",
   "execution_count": 3,
   "metadata": {
    "collapsed": false
   },
   "outputs": [],
   "source": [
    "# Set plot parameters\n",
    "default_figsize = (12, 9)\n",
    "scale_pic = 1.0\n",
    "my_font = \"Times New Roman\"#'Times New Roman' #'STIXGeneral'\n",
    "pylab.rcParams['figure.figsize'] = default_figsize\n",
    "pylab.rcParams['mathtext.rm'] = my_font\n",
    "pylab.rcParams['mathtext.it'] = my_font\n",
    "pylab.rcParams['mathtext.bf'] = my_font\n",
    "plt.rc('font',**{'family':'serif','serif':[my_font],'size':14})"
   ]
  },
  {
   "cell_type": "markdown",
   "metadata": {},
   "source": [
    "Load data"
   ]
  },
  {
   "cell_type": "code",
   "execution_count": 4,
   "metadata": {
    "collapsed": true
   },
   "outputs": [],
   "source": [
    "# Load metafeatures\n",
    "df_metafs = pd.read_csv('./1_metafeatures/metafeatures.csv', index_col = 0)\n",
    "df_metafs.index = df_metafs['dataset']\n",
    "df_metafs = df_metafs.drop('dataset', axis = 1)"
   ]
  },
  {
   "cell_type": "code",
   "execution_count": 5,
   "metadata": {
    "collapsed": false
   },
   "outputs": [],
   "source": [
    "# Add metafeatures in logarithmic scale\n",
    "for i, col in zip(range(df_metafs.shape[1]), df_metafs.columns):\n",
    "    #print i, col, df_metafs[col].max(), df_metafs[col].min()\n",
    "    if df_metafs[col].min() > 0:\n",
    "        df_metafs[col + '_log1p'] = np.log1p(df_metafs[col])"
   ]
  },
  {
   "cell_type": "code",
   "execution_count": 6,
   "metadata": {
    "collapsed": true
   },
   "outputs": [],
   "source": [
    "# Define useful constants\n",
    "available_metrics = ['prc_auc', 'roc_auc']\n",
    "available_classifiers = ['logreg_l1', 'logreg_l2', 'knn', 'dtree']\n",
    "available_resamplers = ['bootstrap', 'rus', 'smote1', 'smote3', 'smote5', 'smote7']\n",
    "available_multipliers = [1.25 + i * 0.25 for i in range(4*9)]\n",
    "ds_real = [ds for ds in df_metafs.index if 'art' not in ds]\n",
    "ds_art = [ds for ds in df_metafs.index if 'art' in ds]\n",
    "ser_defmult = ((1 / df_metafs['min_maj_ratio'] * 4).round() / 4.0).combine(pd.Series(10, index=df_metafs.index), min)"
   ]
  },
  {
   "cell_type": "code",
   "execution_count": 7,
   "metadata": {
    "collapsed": false
   },
   "outputs": [],
   "source": [
    "# Load scores data frames which were prepared by data-preprocessing.ipynb\n",
    "# key: metric (e.g. prc_auc_dtree), value: dataframe\n",
    "# _nores - no resampling; _res - with resampling; _agg - aggregations; res_ir1 - resampling with imbalance ratio=1.0\n",
    "dict_scores_nores, dict_scores_res, dict_scores_agg, dict_scores_res_ir1 = {}, {}, {}, {}\n",
    "for clf, met in itertools.product(available_classifiers, available_metrics):\n",
    "    metric = clf + '_' + met\n",
    "    dict_scores_nores[metric] = pd.read_csv('2_df_scores/df_scores_nores_' + metric + '.csv', index_col=0)\n",
    "    dict_scores_res[metric] = pd.read_csv('2_df_scores/df_scores_res_' + metric + '.csv', index_col=0, header=[0,1,2])\n",
    "    temp = dict_scores_res[metric].columns._tuples\n",
    "    temp2 = [[temp[i][0], float(temp[i][1]), temp[i][2]] for i in range(len(temp))]\n",
    "    dict_scores_res[metric].columns = map(list, zip(*temp2))\n",
    "    dict_scores_agg[metric] = pd.read_csv('2_df_scores/df_scores_agg_' + metric + '.csv', index_col=0, header=[0,1,2])\n",
    "    \n",
    "    df_temp2 = pd.DataFrame(index=df_metafs.index, columns = available_resamplers)\n",
    "    for i in df_temp2.index:\n",
    "        df_temp2.loc[i] = dict_scores_res[metric].xs(ser_defmult[i], level=1, axis=1).xs('mean', level=1, axis=1).loc[i]\n",
    "    df_temp2.columns = [col + '_IR=1' for col in df_temp2.columns]\n",
    "    dict_scores_res_ir1[metric] = df_temp2"
   ]
  },
  {
   "cell_type": "markdown",
   "metadata": {},
   "source": [
    "Learn and validate recommendation systems"
   ]
  },
  {
   "cell_type": "code",
   "execution_count": 8,
   "metadata": {
    "collapsed": false
   },
   "outputs": [
    {
     "name": "stdout",
     "output_type": "stream",
     "text": [
      "['logreg_l1', 'logreg_l2', 'knn', 'dtree']\n",
      "['n_objects', 'n_features', 'objects_features_ratio', 'min_maj_ratio', 'dist_class_centers', 'mean_dist_between_classes_0.0-0.3', 'mean_dist_between_classes_0.3-0.7', 'mean_dist_between_classes_0.7-1.0', 'max_major_cov_abs_eigenvalue', 'max_minor_cov_abs_eigenvalue', 'min_major_cov_abs_eigenvalue', 'min_minor_cov_abs_eigenvalue', 'min_major_skewness', 'min_minor_skewness', 'max_major_skewness', 'max_minor_skewness', 'min_major_skewness_pvalue', 'min_minor_skewness_pvalue', 'max_major_skewness_pvalue', 'max_minor_skewness_pvalue', 'min_major_skewness_stat', 'min_minor_skewness_stat', 'max_major_skewness_stat', 'max_minor_skewness_stat', 'min_major_kurtosis', 'min_minor_kurtosis', 'max_major_kurtosis', 'max_minor_kurtosis', 'min_major_kurtosis_pvalue', 'min_minor_kurtosis_pvalue', 'max_major_kurtosis_pvalue', 'max_minor_kurtosis_pvalue', 'min_major_kurtosis_stat', 'min_minor_kurtosis_stat', 'max_major_kurtosis_stat', 'max_minor_kurtosis_stat', 'n_objects_log1p', 'n_features_log1p', 'objects_features_ratio_log1p', 'min_maj_ratio_log1p', 'dist_class_centers_log1p', 'mean_dist_between_classes_0.0-0.3_log1p', 'mean_dist_between_classes_0.3-0.7_log1p', 'mean_dist_between_classes_0.7-1.0_log1p', 'max_major_cov_abs_eigenvalue_log1p', 'max_minor_cov_abs_eigenvalue_log1p', 'max_major_skewness_pvalue_log1p', 'max_minor_skewness_pvalue_log1p', 'max_major_kurtosis_pvalue_log1p', 'max_minor_kurtosis_pvalue_log1p']\n"
     ]
    }
   ],
   "source": [
    "print available_classifiers\n",
    "print df_metafs.columns.tolist()\n",
    "\n",
    "features1 = ['n_objects', 'n_features', 'objects_features_ratio', 'min_maj_ratio', \n",
    "             'dist_class_centers', 'max_major_cov_abs_eigenvalue', 'max_minor_cov_abs_eigenvalue', \n",
    "             'min_major_cov_abs_eigenvalue', \n",
    "             'min_minor_cov_abs_eigenvalue', 'min_major_skewness', 'min_minor_skewness', 'max_major_skewness', \n",
    "             'max_minor_skewness', 'min_major_skewness_pvalue', \n",
    "             'min_minor_skewness_pvalue', 'max_major_skewness_pvalue', 'max_minor_skewness_pvalue', \n",
    "             'min_major_skewness_stat', 'min_minor_skewness_stat', \n",
    "             'max_major_skewness_stat', 'max_minor_skewness_stat', 'min_major_kurtosis', 'min_minor_kurtosis', \n",
    "             'max_major_kurtosis', 'max_minor_kurtosis', \n",
    "             'min_major_kurtosis_pvalue', 'min_minor_kurtosis_pvalue', 'max_major_kurtosis_pvalue', \n",
    "             'max_minor_kurtosis_pvalue', 'min_major_kurtosis_stat', \n",
    "             'min_minor_kurtosis_stat', 'max_major_kurtosis_stat', 'max_minor_kurtosis_stat', \n",
    "             'n_objects_log1p', 'n_features_log1p', 'objects_features_ratio_log1p', \n",
    "             'min_maj_ratio_log1p', 'dist_class_centers_log1p', 'max_major_cov_abs_eigenvalue_log1p', \n",
    "             'max_minor_cov_abs_eigenvalue_log1p', \n",
    "             'max_major_skewness_pvalue_log1p', 'max_minor_skewness_pvalue_log1p', 'max_major_kurtosis_pvalue_log1p', \n",
    "             'max_minor_kurtosis_pvalue_log1p']\n",
    "\n",
    "features2 = ['n_objects', 'n_features', 'objects_features_ratio', 'min_maj_ratio', 'dist_class_centers', \n",
    "             'max_minor_cov_abs_eigenvalue']\n",
    "\n",
    "features3 = ['min_maj_ratio', 'dist_class_centers', 'max_minor_cov_abs_eigenvalue', \n",
    "             'max_minor_kurtosis', 'max_minor_skewness', 'min_minor_kurtosis', 'min_minor_skewness',\n",
    "            'min_major_cov_abs_eigenvalue', 'min_major_kurtosis', 'max_major_skewness_pvalue']"
   ]
  },
  {
   "cell_type": "code",
   "execution_count": 9,
   "metadata": {
    "collapsed": true
   },
   "outputs": [],
   "source": [
    "dict_exp_rec = {}\n",
    "dict_exp_rec_scores = {}"
   ]
  },
  {
   "cell_type": "markdown",
   "metadata": {},
   "source": [
    "Recommendation system #1: learning & cross-validation"
   ]
  },
  {
   "cell_type": "code",
   "execution_count": 17,
   "metadata": {
    "collapsed": false
   },
   "outputs": [],
   "source": [
    "# RecommendatorRes1 cross-validation. Art data. Metric: 'dtree_prc_auc'\n",
    "name = 'rec1_art_data_cv'\n",
    "metric = 'dtree_prc_auc'\n",
    "ds = ds_art\n",
    "y_col = 'pval_winmax'\n",
    "features = features2#['min_maj_ratio_log1p', 'dist_class_centers_log1p']\n",
    "base_clf = AdaBoostClassifier(n_estimators = 10)\n",
    "\n",
    "recres = RecommendatorRes1(threshold=0.05)\n",
    "rec, rec_scores = recres.assess_cv(\n",
    "    df_metafs.loc[ds, features], \n",
    "    dict_scores_res[metric].xs(y_col, axis=1, level=2).loc[ds],\n",
    "    dict_scores_res[metric].xs('mean', axis=1, level=2).loc[ds], \n",
    "    dict_scores_nores[metric]['mean'].loc[ds],\n",
    "    n_folds = 10, base_clf=base_clf)\n",
    "dict_exp_rec[(name, metric)], dict_exp_rec_scores[(name, metric)] = rec, rec_scores"
   ]
  },
  {
   "cell_type": "code",
   "execution_count": 18,
   "metadata": {
    "collapsed": true
   },
   "outputs": [],
   "source": [
    "#RecommendatorRes1 cross-validation. Real data. Metric: 'dtree_prc_auc'\n",
    "name = 'rec1_real_data_cv'\n",
    "metric = 'dtree_prc_auc'\n",
    "ds = ds_real\n",
    "y_col = 'pval_winmax'\n",
    "features = ['min_maj_ratio_log1p', 'dist_class_centers_log1p', 'n_objects', 'min_major_cov_abs_eigenvalue', \n",
    "            'max_minor_kurtosis_pvalue']\n",
    "base_clf = AdaBoostClassifier(n_estimators = 10)\n",
    "\n",
    "recres = RecommendatorRes1(threshold=0.05)\n",
    "rec, rec_scores = recres.assess_cv(\n",
    "    df_metafs.loc[ds, features], \n",
    "    dict_scores_res[metric].xs(y_col, axis=1, level=2).loc[ds],\n",
    "    dict_scores_res[metric].xs('mean', axis=1, level=2).loc[ds], \n",
    "    dict_scores_nores[metric]['mean'].loc[ds],\n",
    "    n_folds = 10, base_clf=base_clf)\n",
    "dict_exp_rec[(name, metric)], dict_exp_rec_scores[(name, metric)] = rec, rec_scores"
   ]
  },
  {
   "cell_type": "code",
   "execution_count": 19,
   "metadata": {
    "collapsed": true
   },
   "outputs": [],
   "source": [
    "# RecommendatorRes1 cross-validation. Art data. Metric: 'knn_prc_auc'\n",
    "name = 'rec1_art_data_cv'\n",
    "metric = 'knn_prc_auc'\n",
    "ds = ds_art\n",
    "y_col = 'pval_winmax'\n",
    "features = features1\n",
    "base_clf = AdaBoostClassifier(n_estimators = 10)\n",
    "\n",
    "recres = RecommendatorRes1(threshold=0.05)\n",
    "rec, rec_scores = recres.assess_cv(\n",
    "    df_metafs.loc[ds, features], \n",
    "    dict_scores_res[metric].xs(y_col, axis=1, level=2).loc[ds],\n",
    "    dict_scores_res[metric].xs('mean', axis=1, level=2).loc[ds], \n",
    "    dict_scores_nores[metric]['mean'].loc[ds],\n",
    "    n_folds = 10, base_clf=base_clf)\n",
    "dict_exp_rec[(name, metric)], dict_exp_rec_scores[(name, metric)] = rec, rec_scores"
   ]
  },
  {
   "cell_type": "code",
   "execution_count": 20,
   "metadata": {
    "collapsed": true
   },
   "outputs": [],
   "source": [
    "# RecommendatorRes1 cross-validation. Real data. Metric: 'knn_prc_auc'\n",
    "name = 'rec1_real_data_cv'\n",
    "metric = 'knn_prc_auc'\n",
    "ds = ds_real\n",
    "y_col = 'pval_winmax'\n",
    "features = features1\n",
    "base_clf = AdaBoostClassifier(n_estimators = 10)\n",
    "\n",
    "recres = RecommendatorRes1(threshold=0.05)\n",
    "rec, rec_scores = recres.assess_cv(\n",
    "    df_metafs.loc[ds, features], \n",
    "    dict_scores_res[metric].xs(y_col, axis=1, level=2).loc[ds],\n",
    "    dict_scores_res[metric].xs('mean', axis=1, level=2).loc[ds], \n",
    "    dict_scores_nores[metric]['mean'].loc[ds],\n",
    "    n_folds = 10, base_clf=base_clf)\n",
    "dict_exp_rec[(name, metric)], dict_exp_rec_scores[(name, metric)] = rec, rec_scores"
   ]
  },
  {
   "cell_type": "code",
   "execution_count": 21,
   "metadata": {
    "collapsed": true
   },
   "outputs": [],
   "source": [
    "# RecommendatorRes1 cross-validation. Art data. Metric: 'logreg_l1_prc_auc'\n",
    "name = 'rec1_art_data_cv'\n",
    "metric = 'logreg_l1_prc_auc'\n",
    "ds = ds_art\n",
    "y_col = 'pval_winmax'\n",
    "features = features3\n",
    "base_clf = LogisticRegression(penalty='l1')\n",
    "\n",
    "recres = RecommendatorRes1(threshold=0.05)\n",
    "rec, rec_scores = recres.assess_cv(\n",
    "    df_metafs.loc[ds, features], \n",
    "    dict_scores_res[metric].xs(y_col, axis=1, level=2).loc[ds],\n",
    "    dict_scores_res[metric].xs('mean', axis=1, level=2).loc[ds], \n",
    "    dict_scores_nores[metric]['mean'].loc[ds],\n",
    "    n_folds = 10, base_clf=base_clf)\n",
    "dict_exp_rec[(name, metric)], dict_exp_rec_scores[(name, metric)] = rec, rec_scores"
   ]
  },
  {
   "cell_type": "code",
   "execution_count": 22,
   "metadata": {
    "collapsed": true
   },
   "outputs": [],
   "source": [
    "# RecommendatorRes1 cross-validation. Real data. Metric: 'logreg_l1_prc_auc'\n",
    "name = 'rec1_real_data_cv'\n",
    "metric = 'logreg_l1_prc_auc'\n",
    "ds = ds_real\n",
    "y_col = 'pval_winmax'\n",
    "features = features3\n",
    "base_clf = LogisticRegression(penalty='l1')\n",
    "\n",
    "recres = RecommendatorRes1(threshold=0.05)\n",
    "rec, rec_scores = recres.assess_cv(\n",
    "    df_metafs.loc[ds, features], \n",
    "    dict_scores_res[metric].xs(y_col, axis=1, level=2).loc[ds],\n",
    "    dict_scores_res[metric].xs('mean', axis=1, level=2).loc[ds], \n",
    "    dict_scores_nores[metric]['mean'].loc[ds],\n",
    "    n_folds = 10, base_clf=base_clf)\n",
    "dict_exp_rec[(name, metric)], dict_exp_rec_scores[(name, metric)] = rec, rec_scores"
   ]
  },
  {
   "cell_type": "markdown",
   "metadata": {},
   "source": [
    "Recommendation system #2: learning & cross-validation"
   ]
  },
  {
   "cell_type": "code",
   "execution_count": 10,
   "metadata": {
    "collapsed": false
   },
   "outputs": [],
   "source": [
    "# RecommendatorRes2 cross-validation. Art data. Metric: 'dtree_prc_auc'\n",
    "name = 'rec2_art_data_cv'\n",
    "metric = 'dtree_prc_auc'\n",
    "ds = ds_art\n",
    "y_col = 'pval_winmax'\n",
    "features = ['min_maj_ratio_log1p', 'dist_class_centers_log1p']\n",
    "base_clf = AdaBoostClassifier(n_estimators = 10)\n",
    "base_rgr = AdaBoostRegressor(n_estimators = 10, base_estimator = DecisionTreeRegressor())\n",
    "recres = RecommendatorRes2(threshold=0.05)\n",
    "\n",
    "rec, rec_scores = recres.assess_cv(\n",
    "    df_metafs.loc[ds, features], \n",
    "    dict_scores_res[metric].xs(y_col, axis=1, level=2).loc[ds],\n",
    "    dict_scores_res[metric].xs('mean', axis=1, level=2).loc[ds], \n",
    "    dict_scores_nores[metric]['mean'].loc[ds],\n",
    "    n_folds = 10, base_clf=base_clf, base_rgr=base_rgr)\n",
    "dict_exp_rec[(name, metric)], dict_exp_rec_scores[(name, metric)] = rec, rec_scores"
   ]
  },
  {
   "cell_type": "code",
   "execution_count": 11,
   "metadata": {
    "collapsed": true
   },
   "outputs": [],
   "source": [
    "# RecommendatorRes2 cross-validation. Real data. Metric: 'dtree_prc_auc'\n",
    "name = 'rec2_real_data_cv'\n",
    "metric = 'dtree_prc_auc'\n",
    "ds = ds_real\n",
    "y_col = 'pval_winmax'\n",
    "features = ['min_maj_ratio_log1p', 'dist_class_centers_log1p']\n",
    "base_clf = AdaBoostClassifier(n_estimators = 10)\n",
    "base_rgr = AdaBoostRegressor(n_estimators = 10, base_estimator = DecisionTreeRegressor())\n",
    "recres = RecommendatorRes2(threshold=0.05)\n",
    "\n",
    "rec, rec_scores = recres.assess_cv(\n",
    "    df_metafs.loc[ds, features], \n",
    "    dict_scores_res[metric].xs(y_col, axis=1, level=2).loc[ds],\n",
    "    dict_scores_res[metric].xs('mean', axis=1, level=2).loc[ds], \n",
    "    dict_scores_nores[metric]['mean'].loc[ds],\n",
    "    n_folds = 10, base_clf=base_clf, base_rgr=base_rgr)\n",
    "dict_exp_rec[(name, metric)], dict_exp_rec_scores[(name, metric)] = rec, rec_scores"
   ]
  },
  {
   "cell_type": "code",
   "execution_count": 12,
   "metadata": {
    "collapsed": true
   },
   "outputs": [],
   "source": [
    "# RecommendatorRes2 cross-validation. Art data. Metric: 'knn_prc_auc'\n",
    "name = 'rec2_art_data_cv'\n",
    "metric = 'knn_prc_auc'\n",
    "ds = ds_art\n",
    "y_col = 'pval_winmax'\n",
    "features = ['min_maj_ratio_log1p', 'dist_class_centers_log1p']\n",
    "base_clf = AdaBoostClassifier(n_estimators = 10)\n",
    "base_rgr = AdaBoostRegressor(n_estimators = 10, base_estimator = DecisionTreeRegressor())\n",
    "recres = RecommendatorRes2(threshold=0.05)\n",
    "\n",
    "rec, rec_scores = recres.assess_cv(\n",
    "    df_metafs.loc[ds, features], \n",
    "    dict_scores_res[metric].xs(y_col, axis=1, level=2).loc[ds],\n",
    "    dict_scores_res[metric].xs('mean', axis=1, level=2).loc[ds], \n",
    "    dict_scores_nores[metric]['mean'].loc[ds],\n",
    "    n_folds = 10, base_clf=base_clf, base_rgr=base_rgr)\n",
    "dict_exp_rec[(name, metric)], dict_exp_rec_scores[(name, metric)] = rec, rec_scores"
   ]
  },
  {
   "cell_type": "code",
   "execution_count": 13,
   "metadata": {
    "collapsed": true
   },
   "outputs": [],
   "source": [
    "# RecommendatorRes2 cross-validation. Real data. Metric: 'knn_prc_auc'\n",
    "name = 'rec2_real_data_cv'\n",
    "metric = 'knn_prc_auc'\n",
    "ds = ds_real\n",
    "y_col = 'pval_winmax'\n",
    "features = ['min_maj_ratio_log1p', 'dist_class_centers_log1p']\n",
    "base_clf = AdaBoostClassifier(n_estimators = 10)\n",
    "base_rgr = AdaBoostRegressor(n_estimators = 10, base_estimator = DecisionTreeRegressor())\n",
    "recres = RecommendatorRes2(threshold=0.05)\n",
    "\n",
    "rec, rec_scores = recres.assess_cv(\n",
    "    df_metafs.loc[ds, features], \n",
    "    dict_scores_res[metric].xs(y_col, axis=1, level=2).loc[ds],\n",
    "    dict_scores_res[metric].xs('mean', axis=1, level=2).loc[ds], \n",
    "    dict_scores_nores[metric]['mean'].loc[ds],\n",
    "    n_folds = 10, base_clf=base_clf, base_rgr=base_rgr)\n",
    "dict_exp_rec[(name, metric)], dict_exp_rec_scores[(name, metric)] = rec, rec_scores"
   ]
  },
  {
   "cell_type": "code",
   "execution_count": 14,
   "metadata": {
    "collapsed": true
   },
   "outputs": [],
   "source": [
    "# RecommendatorRes2 cross-validation. Art data. Metric: 'logreg_l1_prc_auc'\n",
    "name = 'rec2_art_data_cv'\n",
    "metric = 'logreg_l1_prc_auc'\n",
    "ds = ds_art\n",
    "y_col = 'pval_winmax'\n",
    "features = ['min_maj_ratio_log1p', 'dist_class_centers_log1p']\n",
    "base_clf = AdaBoostClassifier(n_estimators = 10)\n",
    "base_rgr = AdaBoostRegressor(n_estimators = 10, base_estimator = DecisionTreeRegressor())\n",
    "recres = RecommendatorRes2(threshold=0.05)\n",
    "\n",
    "rec, rec_scores = recres.assess_cv(\n",
    "    df_metafs.loc[ds, features], \n",
    "    dict_scores_res[metric].xs(y_col, axis=1, level=2).loc[ds],\n",
    "    dict_scores_res[metric].xs('mean', axis=1, level=2).loc[ds], \n",
    "    dict_scores_nores[metric]['mean'].loc[ds],\n",
    "    n_folds = 10, base_clf=base_clf, base_rgr=base_rgr)\n",
    "dict_exp_rec[(name, metric)], dict_exp_rec_scores[(name, metric)] = rec, rec_scores"
   ]
  },
  {
   "cell_type": "code",
   "execution_count": 16,
   "metadata": {
    "collapsed": true
   },
   "outputs": [],
   "source": [
    "# RecommendatorRes2 cross-validation. Real data. Metric: 'logreg_l1_prc_auc'\n",
    "name = 'rec2_real_data_cv'\n",
    "metric = 'logreg_l1_prc_auc'\n",
    "ds = ds_real\n",
    "y_col = 'pval_winmax'\n",
    "features = ['min_maj_ratio_log1p', 'dist_class_centers_log1p']\n",
    "base_clf = AdaBoostClassifier(n_estimators = 10)\n",
    "base_rgr = AdaBoostRegressor(n_estimators = 10, base_estimator = DecisionTreeRegressor())\n",
    "recres = RecommendatorRes2(threshold=0.05)\n",
    "\n",
    "rec, rec_scores = recres.assess_cv(\n",
    "    df_metafs.loc[ds, features], \n",
    "    dict_scores_res[metric].xs(y_col, axis=1, level=2).loc[ds],\n",
    "    dict_scores_res[metric].xs('mean', axis=1, level=2).loc[ds], \n",
    "    dict_scores_nores[metric]['mean'].loc[ds],\n",
    "    n_folds = 10, base_clf=base_clf, base_rgr=base_rgr)\n",
    "dict_exp_rec[(name, metric)], dict_exp_rec_scores[(name, metric)] = rec, rec_scores"
   ]
  },
  {
   "cell_type": "code",
   "execution_count": 23,
   "metadata": {
    "collapsed": true
   },
   "outputs": [
    {
     "name": "stdout",
     "output_type": "stream",
     "text": [
      "('rec2_real_data_cv', 'knn_prc_auc')\n",
      "('rec1_art_data_cv', 'dtree_prc_auc')\n",
      "('rec2_art_data_cv', 'dtree_prc_auc')\n",
      "('rec2_art_data_cv', 'knn_prc_auc')\n",
      "('rec1_art_data_cv', 'logreg_l1_prc_auc')\n",
      "('rec1_art_data_cv', 'knn_prc_auc')\n",
      "('rec1_real_data_cv', 'logreg_l1_prc_auc')\n",
      "('rec2_art_data_cv', 'logreg_l1_prc_auc')\n",
      "('rec2_real_data_cv', 'dtree_prc_auc')\n",
      "('rec1_real_data_cv', 'knn_prc_auc')\n",
      "('rec1_real_data_cv', 'dtree_prc_auc')\n",
      "('rec2_real_data_cv', 'logreg_l1_prc_auc')\n"
     ]
    }
   ],
   "source": [
    "# Save dict_exp_rec_scores\n",
    "for name_tuple, df in dict_exp_rec_scores.iteritems():\n",
    "    print name_tuple\n",
    "    df.to_csv('./3_recsyst_results/' + name_tuple[0] + '---' + name_tuple[1] + '.csv')\n",
    "    #recsyst1_comparison_graphs"
   ]
  },
  {
   "cell_type": "markdown",
   "metadata": {},
   "source": [
    "Show results"
   ]
  },
  {
   "cell_type": "code",
   "execution_count": 26,
   "metadata": {
    "collapsed": true
   },
   "outputs": [
    {
     "name": "stdout",
     "output_type": "stream",
     "text": [
      "rec1_art_data_cv---dtree_prc_auc.csv\n",
      "rec1_art_data_cv---knn_prc_auc.csv\n",
      "rec1_art_data_cv---logreg_l1_prc_auc.csv\n",
      "rec1_real_data_cv---dtree_prc_auc.csv\n",
      "rec1_real_data_cv---knn_prc_auc.csv\n",
      "rec1_real_data_cv---logreg_l1_prc_auc.csv\n",
      "rec2_art_data_cv---dtree_prc_auc.csv\n",
      "rec2_art_data_cv---knn_prc_auc.csv\n",
      "rec2_art_data_cv---logreg_l1_prc_auc.csv\n",
      "rec2_real_data_cv---dtree_prc_auc.csv\n",
      "rec2_real_data_cv---knn_prc_auc.csv\n",
      "rec2_real_data_cv---logreg_l1_prc_auc.csv\n"
     ]
    }
   ],
   "source": [
    "# Load dict_exp_rec_scores\n",
    "for fname in os.listdir('./3_recsyst_results/'):\n",
    "    print fname\n",
    "    df = pd.read_csv('./3_recsyst_results/' + fname, index_col=0)\n",
    "    name_tuple = tuple(fname[:-4].split('---'))\n",
    "    dict_exp_rec_scores[name_tuple] = df"
   ]
  },
  {
   "cell_type": "code",
   "execution_count": 27,
   "metadata": {
    "collapsed": true
   },
   "outputs": [],
   "source": [
    "def get_subplot_exp(ax, rec_scores_list, metric, curve_type='ara', \n",
    "                      plot_resamplers=['recsyst', 'nothing', 'bootstrap_IR=1', 'rus_IR=1', 'smote5_IR=1'],\n",
    "                    title=''):\n",
    "    if curve_type == 'dolan-more': \n",
    "        get_points_func=get_dolanmore_points\n",
    "    elif curve_type == 'performance-profile':\n",
    "        get_points_func=get_perfprofile_points\n",
    "    elif curve_type == 'ara':\n",
    "        get_points_func=get_ara_points\n",
    "    \n",
    "    \n",
    "    ds = rec_scores_list[0].index.tolist()\n",
    "    #prepare dataframe with all scores needed for plotting\n",
    "    df_scores = pd.concat([rec_scores[['quality']] for rec_scores in rec_scores_list], axis=1)\n",
    "    df_scores.columns = ['recsyst' + str(i+1) for i in range(len(rec_scores_list))]\n",
    "    df_scores.loc[:,'nothing'] = dict_scores_nores[metric].loc[ds, 'mean']\n",
    "    df_scores.loc[:,'best'] = pd.concat([\n",
    "            dict_scores_res[metric].xs('mean', level=2, axis=1).loc[ds].max(axis=1), \n",
    "            dict_scores_nores[metric]['mean']], axis=1).loc[ds].max(axis=1)\n",
    "    df_scores.loc[:,'worst'] = pd.concat([\n",
    "            dict_scores_res[metric].xs('mean', level=2, axis=1).loc[ds].min(axis=1), \n",
    "            dict_scores_nores[metric]['mean']], axis=1).loc[ds].min(axis=1)\n",
    "    df_temp = dict_scores_res[metric].xs(2.0, level=1, axis=1).xs('mean', level=1, axis=1).loc[ds]\n",
    "    df_temp.columns = [col + '_m=2.0' for col in df_temp.columns]\n",
    "    df_scores = pd.concat([df_scores, dict_scores_res_ir1[metric].loc[ds], df_temp], axis=1)\n",
    "    #print df_scores\n",
    "    \n",
    "    df_points = get_points_func(df_scores.loc[ds, plot_resamplers], df_scores.loc[ds])\n",
    "    #ax.set_xscale('log') #!    \n",
    "    for res in plot_resamplers:\n",
    "        ax.plot(df_points.index, df_points[res].values, label=res_names[res], \n",
    "             color=line_colors[res], ls=line_styles[res], linewidth=0.8 * scale_pic, dashes=line_dashes[res])\n",
    "    if len(title) > 0:\n",
    "        ax.text(0.96, 0.05, title, ha='right', transform=ax.transAxes, fontsize=8)\n",
    "    ax.tick_params(labelsize=7 * scale_pic, size = 2 * scale_pic)\n",
    "    \n",
    "def get_mean_ara_table(clf, met, resamplers, res_names=res_names):\n",
    "    metric_full = clf + '_' + met\n",
    "\n",
    "    result = pd.DataFrame(index=[res_names[r] for r in resamplers], columns=['Artificial Data', 'Real Data'])\n",
    "    for r in resamplers:\n",
    "        if r == 'recsyst1':\n",
    "            ara_values = [get_ara_values(\n",
    "                          dict_exp_rec_scores[(mode, metric_full)]['quality'], metric_full).mean()\n",
    "                          for mode in ['rec1_art_data_cv', 'rec1_real_data_cv']]\n",
    "            #q_series_art = dict_exp_rec_scores[('rec1_art_data_cv', metric_full)]['quality']\n",
    "            #q_series_real = dict_exp_rec_scores[('rec1_real_data_cv', metric_full)]['quality']\n",
    "        elif r[-5:] == '_IR=1':\n",
    "            ara_values = [get_ara_values(dict_scores_res_ir1[metric_full][r].loc[ds], metric_full).mean()\n",
    "                          for ds in [ds_art, ds_real]]\n",
    "        elif r == 'nothing':\n",
    "            ara_values = [get_ara_values(dict_scores_nores[metric_full]['mean'].loc[datasets], metric_full).mean()\n",
    "                          for ds in [ds_art, ds_real]]            \n",
    "        else:\n",
    "            #resampling with fixed multiplier\n",
    "            pass  \n",
    "        result.loc[res_names[r]] = ara_values\n",
    "    return result"
   ]
  },
  {
   "cell_type": "code",
   "execution_count": 32,
   "metadata": {
    "collapsed": false
   },
   "outputs": [
    {
     "data": {
      "image/png": "[encoded data removed]",
      "text/plain": [
       "<matplotlib.figure.Figure at 0x15b9e9b0>"
      ]
     },
     "metadata": {},
     "output_type": "display_data"
    }
   ],
   "source": [
    "# plot graphs for recommendation system evaluation\n",
    "clf_to_plot = 'dtree'\n",
    "met_to_plot = 'prc_auc'\n",
    "curve_type = 'ara' # 'dolan-more' or 'performance-profile' or 'ara'\n",
    "#exp_prefix = 'rec2_'\n",
    "resamplers_to_plot = ['recsyst1', 'recsyst2', 'nothing', 'bootstrap_IR=1', 'rus_IR=1', 'smote5_IR=1']\n",
    "if curve_type == 'dolan-more': \n",
    "    xlabel, ylabel = r'$\\beta = Q_{best} / Q$', 'Share of datasets ' + r'$p(\\beta)$'\n",
    "    xlim1 = [1.0, 1.1]\n",
    "    xlim2 = [1.0, 1.3]\n",
    "elif curve_type == 'performance-profile':\n",
    "    xlabel, ylabel = 'Quality threshold ' + r'$\\beta$', 'Share of datasets with ' + r'$Q < \\beta$'\n",
    "    xlim1 = [0.0, 1.0]\n",
    "    xlim2 = [0.0, 1.0]\n",
    "elif curve_type == 'ara':\n",
    "    xlabel, ylabel = r'$R\\!A$' + ' metric threshold ' + r'$x$', 'Share of datasets with ' + r'$R\\!A < x$'\n",
    "    xlim1 = [0.0, 1.0]\n",
    "    xlim2 = [0.0, 1.0]  \n",
    "\n",
    "metric_full = clf_to_plot + '_' + met_to_plot   \n",
    "fig, (ax1, ax2) = plt.subplots(1, 2, sharey=True, figsize=(8, 2))\n",
    "\n",
    "get_subplot_exp(ax1, [dict_exp_rec_scores[(prefix+'art_data_cv', metric_full)] for prefix in ['rec1_', 'rec2_']], metric_full, \n",
    "                 plot_resamplers=resamplers_to_plot, curve_type=curve_type, title='Artificial Data')\n",
    "get_subplot_exp(ax2, [dict_exp_rec_scores[(prefix+'real_data_cv', metric_full)] for prefix in ['rec1_', 'rec2_']], metric_full, \n",
    "                 plot_resamplers=resamplers_to_plot, curve_type=curve_type, title='Real Data')\n",
    "\n",
    "box1 = ax1.get_position()\n",
    "box2 = ax2.get_position()\n",
    "ax1.set_position([box1.x0, box1.y0, box1.width*0.8, box1.height])\n",
    "ax2.set_position([box1.x0 + box1.width*0.8+0.04, box2.y0, box2.width*0.8, box2.height])\n",
    "ax2.legend(bbox_to_anchor = (1.02, -0.03), loc='lower left', fontsize=7 * scale_pic)\n",
    "\n",
    "fig.text(0.8, 0.83, 'Classifier:\\n' + clf_names[clf_to_plot], ha='center', va = 'top', fontsize=8)\n",
    "ax1.set_xlabel(xlabel, fontsize=7 * scale_pic, va='top', labelpad=2)\n",
    "ax2.set_xlabel(xlabel, fontsize=7 * scale_pic, va='top', labelpad=2)\n",
    "ax1.set_ylabel(ylabel, fontsize=7 * scale_pic, labelpad=2)\n",
    "plt.ylim([-0.02, 1.02])\n",
    "\n",
    "#plt.show()\n",
    "plt.savefig('./4_graphs-tables-etc/'+ 'both_recsyst_' + curve_type + '_'+clf_to_plot+'_'+met_to_plot+ \\\n",
    "            str(resamplers_to_plot).replace('[', '(').replace(']', ')').replace(\"'\", '').replace(', ', ',')+'.pdf',\n",
    "            bbox_inches='tight', pad_inches=0.02, dpi=900)"
   ]
  }
 ],
 "metadata": {
  "kernelspec": {
   "display_name": "Python 2",
   "language": "python",
   "name": "python2"
  },
  "language_info": {
   "codemirror_mode": {
    "name": "ipython",
    "version": 2
   },
   "file_extension": ".py",
   "mimetype": "text/x-python",
   "name": "python",
   "nbconvert_exporter": "python",
   "pygments_lexer": "ipython2",
   "version": "2.7.13"
  }
 },
 "nbformat": 4,
 "nbformat_minor": 2
}
